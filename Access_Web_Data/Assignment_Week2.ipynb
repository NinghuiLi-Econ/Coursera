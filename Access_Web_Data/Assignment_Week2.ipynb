{
 "cells": [
  {
   "cell_type": "code",
   "execution_count": 16,
   "metadata": {},
   "outputs": [],
   "source": [
    "import re"
   ]
  },
  {
   "cell_type": "code",
   "execution_count": 17,
   "metadata": {},
   "outputs": [],
   "source": [
    "# read the file\n",
    "data = open('regex_sum_42.txt')"
   ]
  },
  {
   "cell_type": "code",
   "execution_count": 18,
   "metadata": {},
   "outputs": [],
   "source": [
    "nums_list = list()\n",
    "# look for integers using the re.findall()\n",
    "for line in data:\n",
    "    line = line.rstrip()\n",
    "    integers = re.findall('[0-9]+', line)\n",
    "    # look for a regular expression of '[0-9]+'\n",
    "    if len(integers) == 0: continue  \n",
    "    # convert the extracted strings to integers \n",
    "    nums = [int(i) for i in integers] \n",
    "    nums_list.extend(nums) "
   ]
  },
  {
   "cell_type": "code",
   "execution_count": 20,
   "metadata": {},
   "outputs": [
    {
     "data": {
      "text/plain": [
       "[3036, 7209, 4497, 6702, 8454]"
      ]
     },
     "execution_count": 20,
     "metadata": {},
     "output_type": "execute_result"
    }
   ],
   "source": [
    "nums_list[:5]"
   ]
  },
  {
   "cell_type": "code",
   "execution_count": 22,
   "metadata": {},
   "outputs": [
    {
     "data": {
      "text/plain": [
       "445833"
      ]
     },
     "execution_count": 22,
     "metadata": {},
     "output_type": "execute_result"
    }
   ],
   "source": [
    "# sum up the integers\n",
    "sum(nums_list)"
   ]
  },
  {
   "cell_type": "code",
   "execution_count": 25,
   "metadata": {},
   "outputs": [],
   "source": [
    "data2 = open('regex_sum_1043503.txt')"
   ]
  },
  {
   "cell_type": "code",
   "execution_count": 26,
   "metadata": {},
   "outputs": [
    {
     "data": {
      "text/plain": [
       "461800"
      ]
     },
     "execution_count": 26,
     "metadata": {},
     "output_type": "execute_result"
    }
   ],
   "source": [
    "nums_list = list()\n",
    "# look for integers using the re.findall()\n",
    "for line in data2:\n",
    "    line = line.rstrip()\n",
    "    integers = re.findall('[0-9]+', line)\n",
    "    # look for a regular expression of '[0-9]+'\n",
    "    if len(integers) == 0: continue  \n",
    "    # convert the extracted strings to integers \n",
    "    nums = [int(i) for i in integers] \n",
    "    nums_list.extend(nums) \n",
    "\n",
    "sum(nums_list)"
   ]
  },
  {
   "cell_type": "code",
   "execution_count": 27,
   "metadata": {},
   "outputs": [
    {
     "name": "stdout",
     "output_type": "stream",
     "text": [
      "461800\n"
     ]
    }
   ],
   "source": [
    "# the shortest way\n",
    "print( sum( [ int(i) for i in re.findall('[0-9]+',open('regex_sum_1043503.txt').read()) ] ) )"
   ]
  },
  {
   "cell_type": "code",
   "execution_count": null,
   "metadata": {},
   "outputs": [],
   "source": []
  }
 ],
 "metadata": {
  "kernelspec": {
   "display_name": "Python 3",
   "language": "python",
   "name": "python3"
  },
  "language_info": {
   "codemirror_mode": {
    "name": "ipython",
    "version": 3
   },
   "file_extension": ".py",
   "mimetype": "text/x-python",
   "name": "python",
   "nbconvert_exporter": "python",
   "pygments_lexer": "ipython3",
   "version": "3.8.3"
  }
 },
 "nbformat": 4,
 "nbformat_minor": 4
}
